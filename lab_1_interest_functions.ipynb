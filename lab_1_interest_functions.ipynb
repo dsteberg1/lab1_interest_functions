{
  "cells": [
    {
      "cell_type": "markdown",
      "metadata": {
        "id": "view-in-github",
        "colab_type": "text"
      },
      "source": [
        "<a href=\"https://colab.research.google.com/github/dsteberg1/lab1_interest_functions/blob/master/lab_1_interest_functions.ipynb\" target=\"_parent\"><img src=\"https://colab.research.google.com/assets/colab-badge.svg\" alt=\"Open In Colab\"/></a>"
      ]
    },
    {
      "cell_type": "markdown",
      "metadata": {
        "id": "bLPN8ANn-II-"
      },
      "source": [
        "## Lab 1 - Compound Interest Functions\n",
        "\n",
        "Below you will find a table of important formulae related to compound interest.  \n",
        "\n",
        "<img src=\"https://www.dummies.com/wp-content/uploads/251689.image0.jpg\" alt=\"image0.jpg\" width=\"400\" height=\"319\">\n",
        "\n",
        "In this lab, you will create functions for each of these using (and documenting) the following workflow.\n",
        "\n",
        "1. Work out the correct answer for a few examples. *Hint* Search for e.g. \"worked out compound interest examples\" on the web.\n",
        "2. Write a `lambda` function and test this function on your test cases.\n",
        "3. Convert the `lambda` function to a `def` statement with an informative doc string that follows the [Google formating rules](https://google.github.io/styleguide/pyguide.html#383-functions-and-methods).\n",
        "4. Write an automated test function (using your previous examples) that will test your `def` statement function each time the code is executed."
      ]
    },
    {
      "cell_type": "markdown",
      "metadata": {
        "id": "3p9yX9OM-IJC"
      },
      "source": [
        "#### Problem 1 -- Apply the process to create a simple interest functions."
      ]
    },
    {
      "cell_type": "code",
      "execution_count": 5,
      "metadata": {
        "colab": {
          "base_uri": "https://localhost:8080/"
        },
        "id": "YCWacCgL-IJF",
        "outputId": "be963495-5f7c-4d4a-e745-62dfa9cc0f8d"
      },
      "outputs": [
        {
          "output_type": "execute_result",
          "data": {
            "text/plain": [
              "(100.0, 50.0, 18764.4)"
            ]
          },
          "metadata": {},
          "execution_count": 5
        }
      ],
      "source": [
        "#Working out the simple interest formula using examples\n",
        "\n",
        "#P = 1000, r = 0.01, t = 10\n",
        "I_1 = 1000*0.01*10\n",
        "\n",
        "#P = 25, r = 0.05, t = 40\n",
        "I_2 = 25*0.05*40\n",
        "\n",
        "#P = 12345, r = 0.08, t = 19\n",
        "I_3 = 12345*0.08*19\n",
        "\n",
        "(I_1, I_2, I_3)"
      ]
    },
    {
      "cell_type": "code",
      "source": [
        "#Writing a lambda function for the simple interest formula\n",
        "I = lambda P, r, t: P*r*t\n",
        "\n",
        "#Testing the lambda function\n",
        "I_1 = I(P = 1000, r = 0.01, t = 10)\n",
        "I_2 = I(P = 25, r = 0.05, t = 40)\n",
        "I_3 = I(P = 12345, r = 0.08, t = 19)\n",
        "\n",
        "(I_1, I_2, I_3)"
      ],
      "metadata": {
        "colab": {
          "base_uri": "https://localhost:8080/"
        },
        "id": "ed2hYYdq-bF_",
        "outputId": "6dc95bb2-8dc9-4dff-d71d-69d9e78144ad"
      },
      "execution_count": 6,
      "outputs": [
        {
          "output_type": "execute_result",
          "data": {
            "text/plain": [
              "(100.0, 50.0, 18764.4)"
            ]
          },
          "metadata": {},
          "execution_count": 6
        }
      ]
    },
    {
      "cell_type": "code",
      "source": [
        "#Converting the simple interest lambda function to a def statement \n",
        "def I (P, r, t):\n",
        "    \"\"\"\n",
        "      Computes the simple interest gained on some prinicpal amount of money given an\n",
        "      interest rate and the number of years it is left to grow\n",
        "\n",
        "      Args:\n",
        "          P: a postive rational number that is the principal amount gaining interest\n",
        "          r: a postiive number (usally between 0 and 1) that is the interest rate\n",
        "          t: a postive number which represents the number of years the interest grows\n",
        "\n",
        "      Output:\n",
        "          A postive number representing the amount of interest gained\n",
        "    \"\"\"\n",
        "    output = P*r*t\n",
        "    return(output)"
      ],
      "metadata": {
        "id": "_JbK-47a-r0k"
      },
      "execution_count": 12,
      "outputs": []
    },
    {
      "cell_type": "code",
      "source": [
        "#Writing an automated test function that tests the simple interest def statement\n",
        "def test_I():\n",
        "    assert I(P = 1000, r = 0.01, t = 10) == 100\n",
        "    assert I(P = 25, r = 0.05, t = 40) == 50\n",
        "    assert I(P = 12345, r = 0.08, t = 19) == 18764.4\n",
        "\n",
        "test_I()"
      ],
      "metadata": {
        "id": "_9zq7HEq-0_O"
      },
      "execution_count": 11,
      "outputs": []
    },
    {
      "cell_type": "markdown",
      "metadata": {
        "id": "bDKCVt5T-IJJ"
      },
      "source": [
        "#### Problem 2 -- Apply the process to create a compound interest functions."
      ]
    },
    {
      "cell_type": "code",
      "execution_count": null,
      "metadata": {
        "id": "4TyXSYtK_KDC"
      },
      "outputs": [],
      "source": [
        "#Working out the compound interest formula using examples\n"
      ]
    },
    {
      "cell_type": "code",
      "source": [
        "#Writing a lambda function for the compound interest formula\n"
      ],
      "metadata": {
        "id": "5XIC1H-s_R4J"
      },
      "execution_count": null,
      "outputs": []
    },
    {
      "cell_type": "code",
      "source": [
        "#Converting the compound interest lambda function to a def statement \n"
      ],
      "metadata": {
        "id": "uuDKNZDS_XkS"
      },
      "execution_count": null,
      "outputs": []
    },
    {
      "cell_type": "code",
      "source": [
        "#Writing an automated test function that tests the compound interest def statement"
      ],
      "metadata": {
        "id": "He-Jr_9a_bzM"
      },
      "execution_count": null,
      "outputs": []
    },
    {
      "cell_type": "markdown",
      "metadata": {
        "id": "ILyzkysc-IJL"
      },
      "source": [
        "#### Problem 3 -- Apply the process to create a amortized loan payment function."
      ]
    },
    {
      "cell_type": "code",
      "execution_count": null,
      "metadata": {
        "id": "-R-tgAyL_Np1"
      },
      "outputs": [],
      "source": [
        "#Working out the amortized loan payment formula using examples\n"
      ]
    },
    {
      "cell_type": "code",
      "source": [
        "#Writing a lambda function for the amortized loan payment formula\n"
      ],
      "metadata": {
        "id": "6gCiyp6Z_T4k"
      },
      "execution_count": null,
      "outputs": []
    },
    {
      "cell_type": "code",
      "source": [
        "#Converting the amortized loan payment lambda function to a def statement \n"
      ],
      "metadata": {
        "id": "vOvMxGdV_YpM"
      },
      "execution_count": null,
      "outputs": []
    },
    {
      "cell_type": "code",
      "source": [
        "#Writing an automated test function that tests the amortized loan payment def statement"
      ],
      "metadata": {
        "id": "RqmTcjKt_cnV"
      },
      "execution_count": null,
      "outputs": []
    },
    {
      "cell_type": "markdown",
      "metadata": {
        "id": "QeG1eT7n-IJM"
      },
      "source": [
        "#### Problem 4 -- Apply the process to create a remaining balance function"
      ]
    },
    {
      "cell_type": "code",
      "execution_count": null,
      "metadata": {
        "id": "G4k8fv6D_M42"
      },
      "outputs": [],
      "source": [
        "#Working out the remaining balance formula using examples\n"
      ]
    },
    {
      "cell_type": "code",
      "source": [
        "#Writing a lambda function for the remaining balance formula\n"
      ],
      "metadata": {
        "id": "0VEdnVtM_Ufx"
      },
      "execution_count": null,
      "outputs": []
    },
    {
      "cell_type": "code",
      "source": [
        "#Converting the remaining balance lambda function to a def statement \n"
      ],
      "metadata": {
        "id": "sgAT8n4z_ZVt"
      },
      "execution_count": null,
      "outputs": []
    },
    {
      "cell_type": "code",
      "source": [
        "#Writing an automated test function that tests the remaining balance def statement"
      ],
      "metadata": {
        "id": "t_1oYGgc_dTg"
      },
      "execution_count": null,
      "outputs": []
    }
  ],
  "metadata": {
    "kernelspec": {
      "display_name": "Python 3",
      "language": "python",
      "name": "python3"
    },
    "language_info": {
      "codemirror_mode": {
        "name": "ipython",
        "version": 3
      },
      "file_extension": ".py",
      "mimetype": "text/x-python",
      "name": "python",
      "nbconvert_exporter": "python",
      "pygments_lexer": "ipython3",
      "version": "3.7.2"
    },
    "colab": {
      "provenance": [],
      "include_colab_link": true
    }
  },
  "nbformat": 4,
  "nbformat_minor": 0
}