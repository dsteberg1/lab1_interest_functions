{
  "cells": [
    {
      "cell_type": "markdown",
      "metadata": {
        "id": "view-in-github",
        "colab_type": "text"
      },
      "source": [
        "<a href=\"https://colab.research.google.com/github/dsteberg1/lab1_interest_functions/blob/master/lab_1_interest_functions.ipynb\" target=\"_parent\"><img src=\"https://colab.research.google.com/assets/colab-badge.svg\" alt=\"Open In Colab\"/></a>"
      ]
    },
    {
      "cell_type": "markdown",
      "metadata": {
        "id": "bLPN8ANn-II-"
      },
      "source": [
        "## Lab 1 - Compound Interest Functions\n",
        "\n",
        "Below you will find a table of important formulae related to compound interest.  \n",
        "\n",
        "<img src=\"https://www.dummies.com/wp-content/uploads/251689.image0.jpg\" alt=\"image0.jpg\" width=\"400\" height=\"319\">\n",
        "\n",
        "In this lab, you will create functions for each of these using (and documenting) the following workflow.\n",
        "\n",
        "1. Work out the correct answer for a few examples. *Hint* Search for e.g. \"worked out compound interest examples\" on the web.\n",
        "2. Write a `lambda` function and test this function on your test cases.\n",
        "3. Convert the `lambda` function to a `def` statement with an informative doc string that follows the [Google formating rules](https://google.github.io/styleguide/pyguide.html#383-functions-and-methods).\n",
        "4. Write an automated test function (using your previous examples) that will test your `def` statement function each time the code is executed."
      ]
    },
    {
      "cell_type": "markdown",
      "metadata": {
        "id": "3p9yX9OM-IJC"
      },
      "source": [
        "#### Problem 1 -- Apply the process to create a simple interest functions."
      ]
    },
    {
      "cell_type": "code",
      "execution_count": 24,
      "metadata": {
        "colab": {
          "base_uri": "https://localhost:8080/"
        },
        "id": "YCWacCgL-IJF",
        "outputId": "6cea2f2a-4c37-4229-9b42-59b90a3d218e"
      },
      "outputs": [
        {
          "output_type": "execute_result",
          "data": {
            "text/plain": [
              "(100.0, 50.0, 18764.4)"
            ]
          },
          "metadata": {},
          "execution_count": 24
        }
      ],
      "source": [
        "#Working out the simple interest formula using examples\n",
        "\n",
        "#P = 1000, r = 0.01, t = 10\n",
        "I_1 = 1000*0.01*10\n",
        "\n",
        "#P = 25, r = 0.05, t = 40\n",
        "I_2 = 25*0.05*40\n",
        "\n",
        "#P = 12345, r = 0.08, t = 19\n",
        "I_3 = 12345*0.08*19\n",
        "\n",
        "(I_1, I_2, I_3)"
      ]
    },
    {
      "cell_type": "code",
      "source": [
        "#Writing a lambda function for the simple interest formula\n",
        "compute_simple_interest = lambda P, r, t: P*r*t\n",
        "\n",
        "#Testing the lambda function\n",
        "I_1 = compute_simple_interest(P = 1000, r = 0.01, t = 10)\n",
        "I_2 = compute_simple_interest(P = 25, r = 0.05, t = 40)\n",
        "I_3 = compute_simple_interest(P = 12345, r = 0.08, t = 19)\n",
        "\n",
        "(I_1, I_2, I_3)"
      ],
      "metadata": {
        "colab": {
          "base_uri": "https://localhost:8080/"
        },
        "id": "ed2hYYdq-bF_",
        "outputId": "84fda6c9-a143-44d5-8637-f14cc7f4af29"
      },
      "execution_count": 25,
      "outputs": [
        {
          "output_type": "execute_result",
          "data": {
            "text/plain": [
              "(100.0, 50.0, 18764.4)"
            ]
          },
          "metadata": {},
          "execution_count": 25
        }
      ]
    },
    {
      "cell_type": "code",
      "source": [
        "#Converting the simple interest lambda function to a def statement \n",
        "def compute_simple_interest (P, r, t):\n",
        "    \"\"\"\n",
        "      Computes the simple interest gained on some prinicpal amount of money given an\n",
        "      interest rate and the number of years it is left to grow\n",
        "\n",
        "      Args:\n",
        "          P: a postive rational number that is the principal amount gaining interest\n",
        "          r: a postive number (usally between 0 and 1) that is the interest rate\n",
        "          t: a postive number which represents the number of years the interest grows\n",
        "\n",
        "      Output:\n",
        "          A postive number representing the amount of interest gained\n",
        "    \"\"\"\n",
        "    output = P*r*t\n",
        "    return(output)"
      ],
      "metadata": {
        "id": "_JbK-47a-r0k"
      },
      "execution_count": 26,
      "outputs": []
    },
    {
      "cell_type": "code",
      "source": [
        "#Writing an automated test function that tests the simple interest def statement\n",
        "def test_compute_simple_interest():\n",
        "    assert compute_simple_interest(P = 1000, r = 0.01, t = 10) == 100\n",
        "    assert compute_simple_interest(P = 25, r = 0.05, t = 40) == 50\n",
        "    assert compute_simple_interest(P = 12345, r = 0.08, t = 19) == 18764.4\n",
        "\n",
        "test_compute_simple_interest()"
      ],
      "metadata": {
        "id": "_9zq7HEq-0_O"
      },
      "execution_count": 27,
      "outputs": []
    },
    {
      "cell_type": "markdown",
      "metadata": {
        "id": "bDKCVt5T-IJJ"
      },
      "source": [
        "#### Problem 2 -- Apply the process to create a compound interest functions."
      ]
    },
    {
      "cell_type": "code",
      "execution_count": 28,
      "metadata": {
        "id": "4TyXSYtK_KDC",
        "colab": {
          "base_uri": "https://localhost:8080/"
        },
        "outputId": "110f4197-f4ec-40f3-b217-5a47154efbb9"
      },
      "outputs": [
        {
          "output_type": "execute_result",
          "data": {
            "text/plain": [
              "(1105.1248958123354, 184.5489799686336, 27258.249647325367)"
            ]
          },
          "metadata": {},
          "execution_count": 28
        }
      ],
      "source": [
        "#Working out the compound interest formula using examples\n",
        "\n",
        "#P = 1000, r = 0.01, n = 12, t = 10\n",
        "A_1 = 1000*(1 + 0.01/12)**(12*10)\n",
        "\n",
        "#P = 25, r = 0.05, n = 52, t = 40\n",
        "A_2 = 25*(1 + 0.05/52)**(52*40)\n",
        "\n",
        "#P = 12345, r = 0.08, n = 4, t = 19\n",
        "A_3 = 12345*(1 + 0.08/4)**(4*10)\n",
        "\n",
        "(A_1, A_2, A_3)"
      ]
    },
    {
      "cell_type": "code",
      "source": [
        "#Writing a lambda function for the compound interest formula\n",
        "compute_compund_interest = lambda P, r, n, t: P*(1 + r/n)**(n*t)\n",
        "\n",
        "#Testing the lambda function\n",
        "A_1 = compute_compund_interest(P = 1000, r = 0.01, n = 12, t = 10)\n",
        "A_2 = compute_compund_interest(P = 25, r = 0.05, n = 52, t = 40)\n",
        "A_3 = compute_compund_interest(P = 12345, r = 0.08, n = 4, t = 19)\n",
        "\n",
        "(A_1, A_2, A_3)"
      ],
      "metadata": {
        "id": "5XIC1H-s_R4J",
        "colab": {
          "base_uri": "https://localhost:8080/"
        },
        "outputId": "c77055af-ad44-4c00-fb51-510164be4adc"
      },
      "execution_count": 29,
      "outputs": [
        {
          "output_type": "execute_result",
          "data": {
            "text/plain": [
              "(1105.1248958123354, 184.5489799686336, 55603.75846742211)"
            ]
          },
          "metadata": {},
          "execution_count": 29
        }
      ]
    },
    {
      "cell_type": "code",
      "source": [
        "#Converting the compound interest lambda function to a def statement \n",
        "def compute_compund_interest (P, r, n, t):\n",
        "    \"\"\"\n",
        "      Computes the final balance of an account with some prinicpal amount of money given an\n",
        "      interest rate, the number of compoundings, and the number of years it is left to grow\n",
        "\n",
        "      Args:\n",
        "          P: a postive rational number that is the principal amount gaining interest\n",
        "          r: a postive number (usally between 0 and 1) that is the interest rate\n",
        "          n: a whole number which is the number of compoundings within a year\n",
        "          t: a postive number which represents the number of years the interest grows\n",
        "\n",
        "      Output:\n",
        "          A postive number representing the final balance (principal + interest) of an account\n",
        "    \"\"\"\n",
        "    output = P*(1 + r/n)**(n*t)\n",
        "    return(output)"
      ],
      "metadata": {
        "id": "uuDKNZDS_XkS"
      },
      "execution_count": 30,
      "outputs": []
    },
    {
      "cell_type": "code",
      "source": [
        "#Writing an automated test function that tests the compound interest def statement\n",
        "def test_compute_compund_interest():\n",
        "    assert compute_compund_interest(P = 1000, r = 0.01, n = 12, t = 10) == 1105.1248958123354\n",
        "    assert compute_compund_interest(P = 25, r = 0.05, n = 52, t = 40) == 184.5489799686336\n",
        "    assert compute_compund_interest(P = 12345, r = 0.08, n = 4, t = 19) == 55603.75846742211\n",
        "\n",
        "test_compute_compund_interest()"
      ],
      "metadata": {
        "id": "He-Jr_9a_bzM"
      },
      "execution_count": 31,
      "outputs": []
    },
    {
      "cell_type": "markdown",
      "metadata": {
        "id": "ILyzkysc-IJL"
      },
      "source": [
        "#### Problem 3 -- Apply the process to create a amortized loan payment function."
      ]
    },
    {
      "cell_type": "code",
      "execution_count": 32,
      "metadata": {
        "id": "-R-tgAyL_Np1",
        "colab": {
          "base_uri": "https://localhost:8080/"
        },
        "outputId": "f973eb8a-dc99-40f4-bf5b-d5a83247e74b"
      },
      "outputs": [
        {
          "output_type": "execute_result",
          "data": {
            "text/plain": [
              "(13207.04613181059, 1008.2356139528864, 23.852275688285914)"
            ]
          },
          "metadata": {},
          "execution_count": 32
        }
      ],
      "source": [
        "#Working out the amortized loan payment formula using examples\n",
        "\n",
        "#P = 250000, i = 0.05, n = 60\n",
        "R_1 = 250000*0.05/(1 - (1 + 0.05)**(-60))\n",
        "\n",
        "#P = 15000, i = 0.03, n = 20\n",
        "R_2 = 15000*0.03/(1 - (1 + 0.03)**(-20))\n",
        "\n",
        "#P = 100, i = 0.2, n = 10\n",
        "R_3 = 100*0.2/(1 - (1 + 0.2)**(-10))\n",
        "\n",
        "(R_1, R_2, R_3)"
      ]
    },
    {
      "cell_type": "code",
      "source": [
        "#Writing a lambda function for the amortized loan payment formula\n",
        "compute_amortized_loan_payment = lambda P, i, n: P*i/(1 - (1 + i)**(-n))\n",
        "\n",
        "#Testing the lambda function\n",
        "R_1 = compute_amortized_loan_payment(P = 250000, i = 0.05, n = 60)\n",
        "R_2 = compute_amortized_loan_payment(P = 15000, i = 0.03, n = 20)\n",
        "R_3 = compute_amortized_loan_payment(P = 100, i = 0.2, n = 10)\n",
        "\n",
        "(R_1, R_2, R_3)"
      ],
      "metadata": {
        "id": "6gCiyp6Z_T4k",
        "colab": {
          "base_uri": "https://localhost:8080/"
        },
        "outputId": "af02a709-452b-4223-d9af-17cd29d6c31d"
      },
      "execution_count": 33,
      "outputs": [
        {
          "output_type": "execute_result",
          "data": {
            "text/plain": [
              "(13207.04613181059, 1008.2356139528864, 23.852275688285914)"
            ]
          },
          "metadata": {},
          "execution_count": 33
        }
      ]
    },
    {
      "cell_type": "code",
      "source": [
        "#Converting the amortized loan payment lambda function to a def statement \n",
        "def compute_amortized_loan_payment (P, i, n):\n",
        "    \"\"\"\n",
        "      Computes the amount of money one payment will be for a loan (including interest)\n",
        "      given the price of the loan, an interest rate per pay period and the number of\n",
        "      payments to pay off the loan\n",
        "\n",
        "      Args:\n",
        "          P: a postive rational number that is principal of the loan gaining interest\n",
        "          r: a postive number (usally between 0 and 1) that is the interest rate\n",
        "          n: a whole number which is the number of payments to pay off the loan\n",
        "\n",
        "      Output:\n",
        "          A postive number representing the price of one loan payment\n",
        "    \"\"\"\n",
        "    output = P*i/(1 - (1 + i)**(-n))\n",
        "    return(output)"
      ],
      "metadata": {
        "id": "vOvMxGdV_YpM"
      },
      "execution_count": 34,
      "outputs": []
    },
    {
      "cell_type": "code",
      "source": [
        "#Writing an automated test function that tests the amortized loan payment def statement\n",
        "def test_compute_amortized_loan_payment():\n",
        "    assert compute_amortized_loan_payment(P = 250000, i = 0.05, n = 60) == 13207.04613181059\n",
        "    assert compute_amortized_loan_payment(P = 15000, i = 0.03, n = 20) == 1008.2356139528864\n",
        "    assert compute_amortized_loan_payment(P = 100, i = 0.2, n = 10) == 23.852275688285914\n",
        "\n",
        "test_compute_amortized_loan_payment()"
      ],
      "metadata": {
        "id": "RqmTcjKt_cnV"
      },
      "execution_count": 35,
      "outputs": []
    },
    {
      "cell_type": "markdown",
      "metadata": {
        "id": "QeG1eT7n-IJM"
      },
      "source": [
        "#### Problem 4 -- Apply the process to create a remaining balance function"
      ]
    },
    {
      "cell_type": "code",
      "execution_count": 36,
      "metadata": {
        "id": "G4k8fv6D_M42",
        "colab": {
          "base_uri": "https://localhost:8080/"
        },
        "outputId": "c389ab20-e2d4-4f91-a316-0cdaa2649bad"
      },
      "outputs": [
        {
          "output_type": "execute_result",
          "data": {
            "text/plain": [
              "(16398.268580892494, 2659.462878121772, 6322.108374004946)"
            ]
          },
          "metadata": {},
          "execution_count": 36
        }
      ],
      "source": [
        "#Working out the remaining balance formula using examples\n",
        "\n",
        "#R = 1000, i = 0.01, n = 24, x = 6\n",
        "B_1 = 1000*(1 - (1 + 0.01)**(-(24 - 6)))/0.01\n",
        "\n",
        "#R = 750, i = 0.05, n = 5, x = 1\n",
        "B_2 = 750*(1 - (1 + 0.05)**(-(5 - 1)))/0.05\n",
        "\n",
        "\n",
        "#R = 235, i = 0.02, n = 60, x = 21 \n",
        "B_3 = 235*(1 - (1 + 0.02)**(-(60 - 21)))/0.02\n",
        "\n",
        "\n",
        "(B_1, B_2, B_3)"
      ]
    },
    {
      "cell_type": "code",
      "source": [
        "#Writing a lambda function for the remaining balance formula\n",
        "compute_remaining_balance = lambda R, i, n, x: R*(1 - (1 + i)**(-(n - x)))/i\n",
        "\n",
        "#Testing the lambda function\n",
        "B_1 = compute_remaining_balance(R = 1000, i = 0.01, n = 24, x = 6)\n",
        "B_2 = compute_remaining_balance(R = 750, i = 0.05, n = 5, x = 1)\n",
        "B_3 = compute_remaining_balance(R = 235, i = 0.02, n = 60, x = 21)\n",
        "\n",
        "(B_1, B_2, B_3)"
      ],
      "metadata": {
        "id": "0VEdnVtM_Ufx",
        "colab": {
          "base_uri": "https://localhost:8080/"
        },
        "outputId": "e664fb2d-2a44-4fd0-a254-f3b2b5f4fc13"
      },
      "execution_count": 37,
      "outputs": [
        {
          "output_type": "execute_result",
          "data": {
            "text/plain": [
              "(16398.268580892494, 2659.462878121772, 6322.108374004946)"
            ]
          },
          "metadata": {},
          "execution_count": 37
        }
      ]
    },
    {
      "cell_type": "code",
      "source": [
        "#Converting the remaining balance lambda function to a def statement \n",
        "def compute_remaining_balance (R, i, n, x):\n",
        "    \"\"\"\n",
        "      Computes the remaining balance for a loan given regular payment towards the loan,\n",
        "      an interest rate per pay period, the total number of payments to pay off the loan,\n",
        "      and the number of payments already made towards the loan\n",
        "\n",
        "      Args:\n",
        "          R: a positive number which is the regular payment made towards the loan\n",
        "          i: a postive number (usally between 0 and 1) that is the interest rate\n",
        "          n: a positive integer which is the total number of payments to pay off the loan\n",
        "          x: a postive integer which is the number of payments already made towards the loan\n",
        "\n",
        "      Output:\n",
        "          A postive number representing the remaining balance on a loan\n",
        "    \"\"\"\n",
        "    output = R*(1 - (1 + i)**(-(n - x)))/i\n",
        "    return(output)"
      ],
      "metadata": {
        "id": "sgAT8n4z_ZVt"
      },
      "execution_count": 38,
      "outputs": []
    },
    {
      "cell_type": "code",
      "source": [
        "#Writing an automated test function that tests the remaining balance def statement\n",
        "def test_compute_remaining_balance():\n",
        "    assert compute_remaining_balance(R = 1000, i = 0.01, n = 24, x = 6) == 16398.268580892494\n",
        "    assert compute_remaining_balance(R = 750, i = 0.05, n = 5, x = 1) == 2659.462878121772\n",
        "    assert compute_remaining_balance(R = 235, i = 0.02, n = 60, x = 21) == 6322.108374004946\n",
        "\n",
        "test_compute_remaining_balance()"
      ],
      "metadata": {
        "id": "t_1oYGgc_dTg"
      },
      "execution_count": 39,
      "outputs": []
    }
  ],
  "metadata": {
    "kernelspec": {
      "display_name": "Python 3",
      "language": "python",
      "name": "python3"
    },
    "language_info": {
      "codemirror_mode": {
        "name": "ipython",
        "version": 3
      },
      "file_extension": ".py",
      "mimetype": "text/x-python",
      "name": "python",
      "nbconvert_exporter": "python",
      "pygments_lexer": "ipython3",
      "version": "3.7.2"
    },
    "colab": {
      "provenance": [],
      "include_colab_link": true
    }
  },
  "nbformat": 4,
  "nbformat_minor": 0
}